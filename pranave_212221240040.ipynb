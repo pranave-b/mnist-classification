{
  "cells": [
    {
      "cell_type": "code",
      "execution_count": 1,
      "metadata": {
        "id": "aOMTTyu_9SSw"
      },
      "outputs": [],
      "source": [
        "import tensorflow as tf\n",
        "from tensorflow.keras.models import Sequential\n",
        "from tensorflow.keras.layers import Conv2D\n",
        "from tensorflow.keras.layers import MaxPool2D\n",
        "from tensorflow.keras.layers import Dense\n",
        "from tensorflow.keras import layers\n",
        "from tensorflow.keras.datasets import mnist\n",
        "import matplotlib.pyplot as plt\n",
        "from tensorflow.keras import utils\n",
        "import pandas as pd\n",
        "import numpy as np\n",
        "from sklearn.metrics import classification_report,confusion_matrix\n",
        "from tensorflow.keras.preprocessing import image"
      ]
    },
    {
      "cell_type": "code",
      "execution_count": 2,
      "metadata": {
        "colab": {
          "base_uri": "https://localhost:8080/"
        },
        "id": "RixqQkva_VWn",
        "outputId": "46e118e5-1755-49f3-fa2b-686a2f1edbde"
      },
      "outputs": [
        {
          "output_type": "stream",
          "name": "stdout",
          "text": [
            "Downloading data from https://storage.googleapis.com/tensorflow/tf-keras-datasets/mnist.npz\n",
            "11490434/11490434 [==============================] - 1s 0us/step\n"
          ]
        }
      ],
      "source": [
        "(x_train,y_train),(x_test,y_test)=mnist.load_data()"
      ]
    },
    {
      "cell_type": "code",
      "execution_count": 3,
      "metadata": {
        "colab": {
          "base_uri": "https://localhost:8080/",
          "height": 447
        },
        "id": "-Jg8wjo2FRF9",
        "outputId": "87a3cf9f-6681-4fc5-9b0c-cac8086f529f"
      },
      "outputs": [
        {
          "output_type": "execute_result",
          "data": {
            "text/plain": [
              "<matplotlib.image.AxesImage at 0x7f9dd0200190>"
            ]
          },
          "metadata": {},
          "execution_count": 3
        },
        {
          "output_type": "display_data",
          "data": {
            "text/plain": [
              "<Figure size 640x480 with 1 Axes>"
            ],
            "image/png": "[encoded data removed]"
          },
          "metadata": {}
        }
      ],
      "source": [
        "plt.imshow(x_train[0],cmap='gray')"
      ]
    },
    {
      "cell_type": "code",
      "execution_count": 4,
      "metadata": {
        "id": "_kPp_niUF56E"
      },
      "outputs": [],
      "source": [
        "x_train_scaled=x_train/255\n",
        "x_test_scaled=x_test/255"
      ]
    },
    {
      "cell_type": "code",
      "execution_count": 5,
      "metadata": {
        "colab": {
          "base_uri": "https://localhost:8080/"
        },
        "id": "glps9L_fGI3r",
        "outputId": "b6d4714d-9227-4aca-f4d5-197c7c5249ec"
      },
      "outputs": [
        {
          "output_type": "stream",
          "name": "stdout",
          "text": [
            "0.0\n"
          ]
        },
        {
          "output_type": "execute_result",
          "data": {
            "text/plain": [
              "1.0"
            ]
          },
          "metadata": {},
          "execution_count": 5
        }
      ],
      "source": [
        "print(x_train_scaled.min())\n",
        "x_train_scaled.max()"
      ]
    },
    {
      "cell_type": "code",
      "execution_count": 6,
      "metadata": {
        "id": "uoCrVopSGM8b"
      },
      "outputs": [],
      "source": [
        "y_train_onehot = utils.to_categorical(y_train,10)\n",
        "y_test_onehot = utils.to_categorical(y_test,10)"
      ]
    },
    {
      "cell_type": "code",
      "execution_count": 7,
      "metadata": {
        "id": "sRSwT8_WFMw8"
      },
      "outputs": [],
      "source": [
        "x_train_scaled = x_train_scaled.reshape(-1,28,28,1)\n",
        "x_test_scaled = x_test_scaled.reshape(-1,28,28,1)"
      ]
    },
    {
      "cell_type": "code",
      "execution_count": 8,
      "metadata": {
        "id": "ELjWZwKT9dIG"
      },
      "outputs": [],
      "source": [
        "model=Sequential([layers.Input(shape=(28,28,1)),\n",
        "                  Conv2D(filters=32,kernel_size=(5,5),strides=(1,1),padding='valid',activation='relu'),\n",
        "                  MaxPool2D(pool_size=(2,2)),\n",
        "                  Conv2D(filters=64,kernel_size=(5,5),strides=(1,1),padding='same',activation='relu'),\n",
        "                  MaxPool2D(pool_size=(2,2)),\n",
        "                  layers.Flatten(),\n",
        "                  Dense(8,activation='relu'),\n",
        "                  Dense(10,activation='softmax')\n",
        "                  ])"
      ]
    },
    {
      "cell_type": "code",
      "execution_count": 9,
      "metadata": {
        "colab": {
          "base_uri": "https://localhost:8080/"
        },
        "id": "1tRmXw0u-ndf",
        "outputId": "37de6b7b-1572-40d3-fd09-c21e5af8478e"
      },
      "outputs": [
        {
          "output_type": "stream",
          "name": "stdout",
          "text": [
            "Model: \"sequential\"\n",
            "_________________________________________________________________\n",
            " Layer (type)                Output Shape              Param #   \n",
            "=================================================================\n",
            " conv2d (Conv2D)             (None, 24, 24, 32)        832       \n",
            "                                                                 \n",
            " max_pooling2d (MaxPooling2  (None, 12, 12, 32)        0         \n",
            " D)                                                              \n",
            "                                                                 \n",
            " conv2d_1 (Conv2D)           (None, 12, 12, 64)        51264     \n",
            "                                                                 \n",
            " max_pooling2d_1 (MaxPoolin  (None, 6, 6, 64)          0         \n",
            " g2D)                                                            \n",
            "                                                                 \n",
            " flatten (Flatten)           (None, 2304)              0         \n",
            "                                                                 \n",
            " dense (Dense)               (None, 8)                 18440     \n",
            "                                                                 \n",
            " dense_1 (Dense)             (None, 10)                90        \n",
            "                                                                 \n",
            "=================================================================\n",
            "Total params: 70626 (275.88 KB)\n",
            "Trainable params: 70626 (275.88 KB)\n",
            "Non-trainable params: 0 (0.00 Byte)\n",
            "_________________________________________________________________\n"
          ]
        }
      ],
      "source": [
        "model.summary()"
      ]
    },
    {
      "cell_type": "code",
      "execution_count": 10,
      "metadata": {
        "id": "StQvTKfkG7l0"
      },
      "outputs": [],
      "source": [
        "model.compile(optimizer='Adam',\n",
        "                 loss='categorical_crossentropy',\n",
        "                 metrics=['accuracy'])"
      ]
    },
    {
      "cell_type": "code",
      "execution_count": 11,
      "metadata": {
        "colab": {
          "base_uri": "https://localhost:8080/"
        },
        "id": "hFKgtM76HM68",
        "outputId": "afe36b31-5373-4d51-e976-23c9fe692ba5"
      },
      "outputs": [
        {
          "output_type": "stream",
          "name": "stdout",
          "text": [
            "Epoch 1/15\n",
            "235/235 [==============================] - 13s 9ms/step - loss: 0.7097 - accuracy: 0.7606 - val_loss: 0.2019 - val_accuracy: 0.9438\n",
            "Epoch 2/15\n",
            "235/235 [==============================] - 2s 7ms/step - loss: 0.1586 - accuracy: 0.9564 - val_loss: 0.1159 - val_accuracy: 0.9646\n",
            "Epoch 3/15\n",
            "235/235 [==============================] - 2s 8ms/step - loss: 0.1072 - accuracy: 0.9688 - val_loss: 0.0823 - val_accuracy: 0.9753\n",
            "Epoch 4/15\n",
            "235/235 [==============================] - 2s 7ms/step - loss: 0.0799 - accuracy: 0.9764 - val_loss: 0.0653 - val_accuracy: 0.9812\n",
            "Epoch 5/15\n",
            "235/235 [==============================] - 2s 6ms/step - loss: 0.0630 - accuracy: 0.9815 - val_loss: 0.0574 - val_accuracy: 0.9827\n",
            "Epoch 6/15\n",
            "235/235 [==============================] - 2s 6ms/step - loss: 0.0544 - accuracy: 0.9839 - val_loss: 0.0504 - val_accuracy: 0.9849\n",
            "Epoch 7/15\n",
            "235/235 [==============================] - 2s 7ms/step - loss: 0.0468 - accuracy: 0.9857 - val_loss: 0.0534 - val_accuracy: 0.9841\n",
            "Epoch 8/15\n",
            "235/235 [==============================] - 2s 6ms/step - loss: 0.0405 - accuracy: 0.9882 - val_loss: 0.0488 - val_accuracy: 0.9849\n",
            "Epoch 9/15\n",
            "235/235 [==============================] - 2s 6ms/step - loss: 0.0354 - accuracy: 0.9896 - val_loss: 0.0377 - val_accuracy: 0.9880\n",
            "Epoch 10/15\n",
            "235/235 [==============================] - 2s 8ms/step - loss: 0.0307 - accuracy: 0.9906 - val_loss: 0.0462 - val_accuracy: 0.9862\n",
            "Epoch 11/15\n",
            "235/235 [==============================] - 2s 8ms/step - loss: 0.0279 - accuracy: 0.9916 - val_loss: 0.0395 - val_accuracy: 0.9876\n",
            "Epoch 12/15\n",
            "235/235 [==============================] - 2s 7ms/step - loss: 0.0247 - accuracy: 0.9925 - val_loss: 0.0425 - val_accuracy: 0.9872\n",
            "Epoch 13/15\n",
            "235/235 [==============================] - 2s 6ms/step - loss: 0.0226 - accuracy: 0.9935 - val_loss: 0.0374 - val_accuracy: 0.9889\n",
            "Epoch 14/15\n",
            "235/235 [==============================] - 2s 6ms/step - loss: 0.0199 - accuracy: 0.9942 - val_loss: 0.0404 - val_accuracy: 0.9881\n",
            "Epoch 15/15\n",
            "235/235 [==============================] - 2s 7ms/step - loss: 0.0167 - accuracy: 0.9949 - val_loss: 0.0385 - val_accuracy: 0.9884\n"
          ]
        },
        {
          "output_type": "execute_result",
          "data": {
            "text/plain": [
              "<keras.src.callbacks.History at 0x7f9da78a53f0>"
            ]
          },
          "metadata": {},
          "execution_count": 11
        }
      ],
      "source": [
        "\n",
        "model.fit(x_train_scaled ,y_train_onehot, epochs=15,\n",
        "          batch_size=256,\n",
        "          validation_data=(x_test_scaled,y_test_onehot))"
      ]
    },
    {
      "cell_type": "code",
      "execution_count": 12,
      "metadata": {
        "id": "Whw7n-zSHl5E"
      },
      "outputs": [],
      "source": [
        "metrics = pd.DataFrame(model.history.history)"
      ]
    },
    {
      "cell_type": "code",
      "execution_count": 13,
      "metadata": {
        "colab": {
          "base_uri": "https://localhost:8080/",
          "height": 447
        },
        "id": "huuGFq_2KNEt",
        "outputId": "5840c352-0cac-4c9e-a802-ad293852375d"
      },
      "outputs": [
        {
          "output_type": "execute_result",
          "data": {
            "text/plain": [
              "<Axes: >"
            ]
          },
          "metadata": {},
          "execution_count": 13
        },
        {
          "output_type": "display_data",
          "data": {
            "text/plain": [
              "<Figure size 640x480 with 1 Axes>"
            ],
            "image/png": "[encoded data removed]"
          },
          "metadata": {}
        }
      ],
      "source": [
        "metrics[['accuracy','val_accuracy']].plot()"
      ]
    },
    {
      "cell_type": "code",
      "execution_count": 14,
      "metadata": {
        "colab": {
          "base_uri": "https://localhost:8080/",
          "height": 447
        },
        "id": "7_xNQs8oLkI8",
        "outputId": "2c22dec4-55fd-46ec-c8cb-58909cf8e3ad"
      },
      "outputs": [
        {
          "output_type": "execute_result",
          "data": {
            "text/plain": [
              "<Axes: >"
            ]
          },
          "metadata": {},
          "execution_count": 14
        },
        {
          "output_type": "display_data",
          "data": {
            "text/plain": [
              "<Figure size 640x480 with 1 Axes>"
            ],
            "image/png": "[encoded data removed]"
          },
          "metadata": {}
        }
      ],
      "source": [
        "metrics[['loss','val_loss']].plot()\n"
      ]
    },
    {
      "cell_type": "code",
      "execution_count": 15,
      "metadata": {
        "id": "AbWgeTPILl5k",
        "colab": {
          "base_uri": "https://localhost:8080/"
        },
        "outputId": "d8399c7e-8456-4295-8e6a-063e50ceefed"
      },
      "outputs": [
        {
          "output_type": "stream",
          "name": "stdout",
          "text": [
            "313/313 [==============================] - 1s 2ms/step\n"
          ]
        }
      ],
      "source": [
        "x_test_predictions = np.argmax(model.predict(x_test_scaled), axis=1)\n"
      ]
    },
    {
      "cell_type": "code",
      "execution_count": 16,
      "metadata": {
        "colab": {
          "base_uri": "https://localhost:8080/"
        },
        "id": "E3ybsrvzLysk",
        "outputId": "f23a56e2-89c9-4c29-fca9-133f39d6ee13"
      },
      "outputs": [
        {
          "output_type": "stream",
          "name": "stdout",
          "text": [
            "[[ 972    1    1    0    2    0    2    1    1    0]\n",
            " [   0 1132    0    1    0    1    1    0    0    0]\n",
            " [   0    4 1024    0    2    0    0    2    0    0]\n",
            " [   0    0    1  998    0    4    0    4    3    0]\n",
            " [   0    0    1    0  978    0    0    0    0    3]\n",
            " [   0    0    0   10    0  876    3    0    3    0]\n",
            " [   4    4    0    0    5    0  944    0    1    0]\n",
            " [   0    4    7    0    0    0    0 1014    1    2]\n",
            " [   4    0    3    0    0    0    0    1  963    3]\n",
            " [   0    1    1    0   10    2    0    7    5  983]]\n"
          ]
        }
      ],
      "source": [
        "print(confusion_matrix(y_test,x_test_predictions))"
      ]
    },
    {
      "cell_type": "code",
      "execution_count": 17,
      "metadata": {
        "colab": {
          "base_uri": "https://localhost:8080/"
        },
        "id": "6nCSS4JWMKJE",
        "outputId": "255a883d-db8f-43a2-fbbd-a48ec14a480f"
      },
      "outputs": [
        {
          "output_type": "stream",
          "name": "stdout",
          "text": [
            "              precision    recall  f1-score   support\n",
            "\n",
            "           0       0.99      0.99      0.99       980\n",
            "           1       0.99      1.00      0.99      1135\n",
            "           2       0.99      0.99      0.99      1032\n",
            "           3       0.99      0.99      0.99      1010\n",
            "           4       0.98      1.00      0.99       982\n",
            "           5       0.99      0.98      0.99       892\n",
            "           6       0.99      0.99      0.99       958\n",
            "           7       0.99      0.99      0.99      1028\n",
            "           8       0.99      0.99      0.99       974\n",
            "           9       0.99      0.97      0.98      1009\n",
            "\n",
            "    accuracy                           0.99     10000\n",
            "   macro avg       0.99      0.99      0.99     10000\n",
            "weighted avg       0.99      0.99      0.99     10000\n",
            "\n"
          ]
        }
      ],
      "source": [
        "print(classification_report(y_test,x_test_predictions))\n"
      ]
    },
    {
      "cell_type": "code",
      "execution_count": 22,
      "metadata": {
        "id": "7y_IeuFjMWxj"
      },
      "outputs": [],
      "source": [
        "img = image.load_img('pranave.png')"
      ]
    },
    {
      "cell_type": "code",
      "execution_count": 23,
      "metadata": {
        "id": "_bo49vEBNNcC"
      },
      "outputs": [],
      "source": [
        "img_tensor = tf.convert_to_tensor(np.asarray(img))\n",
        "img_28 = tf.image.resize(img_tensor,(28,28))\n",
        "img_28_gray = tf.image.rgb_to_grayscale(img_28)\n",
        "img_28_gray_scaled = img_28_gray.numpy()/255.0"
      ]
    },
    {
      "cell_type": "code",
      "execution_count": 24,
      "metadata": {
        "colab": {
          "base_uri": "https://localhost:8080/",
          "height": 447
        },
        "id": "f4wiu6giNisU",
        "outputId": "661bdc2d-67e3-49e0-d4e8-c98ae89f1f45"
      },
      "outputs": [
        {
          "output_type": "execute_result",
          "data": {
            "text/plain": [
              "<matplotlib.image.AxesImage at 0x7f9d8c6583d0>"
            ]
          },
          "metadata": {},
          "execution_count": 24
        },
        {
          "output_type": "display_data",
          "data": {
            "text/plain": [
              "<Figure size 640x480 with 1 Axes>"
            ],
            "image/png": "[encoded data removed]"
          },
          "metadata": {}
        }
      ],
      "source": [
        "plt.imshow(img_28_gray_scaled.reshape(28,28),cmap='gray')"
      ]
    },
    {
      "cell_type": "code",
      "execution_count": 21,
      "metadata": {
        "colab": {
          "base_uri": "https://localhost:8080/"
        },
        "id": "QgrYtzaqNduM",
        "outputId": "8dccfbea-26a6-4fa7-ce24-5873421fa78c"
      },
      "outputs": [
        {
          "output_type": "stream",
          "name": "stdout",
          "text": [
            "1/1 [==============================] - 0s 80ms/step\n"
          ]
        },
        {
          "output_type": "execute_result",
          "data": {
            "text/plain": [
              "array([7])"
            ]
          },
          "metadata": {},
          "execution_count": 21
        }
      ],
      "source": [
        "np.argmax(model.predict(img_28_gray_scaled.reshape(1,28,28,1)),axis=1)"
      ]
    },
    {
      "cell_type": "code",
      "execution_count": 21,
      "metadata": {
        "id": "DdSkBs_EiQs0"
      },
      "outputs": [],
      "source": []
    }
  ],
  "metadata": {
    "accelerator": "GPU",
    "colab": {
      "provenance": []
    },
    "gpuClass": "standard",
    "kernelspec": {
      "display_name": "Python 3.10.7 64-bit (microsoft store)",
      "language": "python",
      "name": "python3"
    },
    "language_info": {
      "codemirror_mode": {
        "name": "ipython",
        "version": 3
      },
      "file_extension": ".py",
      "mimetype": "text/x-python",
      "name": "python",
      "nbconvert_exporter": "python",
      "pygments_lexer": "ipython3",
      "version": "3.9.13"
    },
    "vscode": {
      "interpreter": {
        "hash": "4bff705619cf08da0cee86ea519efec4ddd5337cf594feb5a48a7054c9873b13"
      }
    }
  },
  "nbformat": 4,
  "nbformat_minor": 0
}