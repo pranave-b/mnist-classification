{
  "cells": [
    {
      "cell_type": "code",
      "execution_count": 27,
      "metadata": {
        "id": "aOMTTyu_9SSw"
      },
      "outputs": [],
      "source": [
        "import tensorflow as tf\n",
        "from tensorflow.keras.models import Sequential\n",
        "from tensorflow.keras.layers import Conv2D\n",
        "from tensorflow.keras.layers import MaxPool2D\n",
        "from tensorflow.keras.layers import Dense\n",
        "from tensorflow.keras import layers\n",
        "from tensorflow.keras.datasets import mnist\n",
        "import matplotlib.pyplot as plt\n",
        "from tensorflow.keras import utils\n",
        "import pandas as pd\n",
        "import numpy as np\n",
        "from sklearn.metrics import classification_report,confusion_matrix\n",
        "from tensorflow.keras.preprocessing import image"
      ]
    },
    {
      "cell_type": "code",
      "execution_count": 28,
      "metadata": {
        "colab": {
          "base_uri": "https://localhost:8080/"
        },
        "id": "RixqQkva_VWn",
        "outputId": "bd13fc02-9180-41bc-e92e-909ce94b9b29"
      },
      "outputs": [],
      "source": [
        "(x_train,y_train),(x_test,y_test)=mnist.load_data()"
      ]
    },
    {
      "cell_type": "code",
      "execution_count": 29,
      "metadata": {
        "colab": {
          "base_uri": "https://localhost:8080/",
          "height": 282
        },
        "id": "-Jg8wjo2FRF9",
        "outputId": "a5d9d42e-267a-451e-d28f-dbd15a25035f"
      },
      "outputs": [
        {
          "data": {
            "text/plain": [
              "<matplotlib.image.AxesImage at 0x18d7ad222c0>"
            ]
          },
          "execution_count": 29,
          "metadata": {},
          "output_type": "execute_result"
        },
        {
          "data": {
            "image/png": "[encoded data removed]",
            "text/plain": [
              "<Figure size 640x480 with 1 Axes>"
            ]
          },
          "metadata": {},
          "output_type": "display_data"
        }
      ],
      "source": [
        "plt.imshow(x_train[0],cmap='gray')"
      ]
    },
    {
      "cell_type": "code",
      "execution_count": 30,
      "metadata": {
        "id": "_kPp_niUF56E"
      },
      "outputs": [],
      "source": [
        "x_train_scaled=x_train/255\n",
        "x_test_scaled=x_test/255"
      ]
    },
    {
      "cell_type": "code",
      "execution_count": 31,
      "metadata": {
        "colab": {
          "base_uri": "https://localhost:8080/"
        },
        "id": "glps9L_fGI3r",
        "outputId": "78a01182-21a9-499e-c5d0-93a476c4091c"
      },
      "outputs": [
        {
          "name": "stdout",
          "output_type": "stream",
          "text": [
            "0.0\n"
          ]
        },
        {
          "data": {
            "text/plain": [
              "1.0"
            ]
          },
          "execution_count": 31,
          "metadata": {},
          "output_type": "execute_result"
        }
      ],
      "source": [
        "print(x_train_scaled.min())\n",
        "x_train_scaled.max()"
      ]
    },
    {
      "cell_type": "code",
      "execution_count": 32,
      "metadata": {
        "id": "uoCrVopSGM8b"
      },
      "outputs": [],
      "source": [
        "y_train_onehot = utils.to_categorical(y_train,10)\n",
        "y_test_onehot = utils.to_categorical(y_test,10)"
      ]
    },
    {
      "cell_type": "code",
      "execution_count": 33,
      "metadata": {
        "id": "sRSwT8_WFMw8"
      },
      "outputs": [],
      "source": [
        "x_train_scaled = x_train_scaled.reshape(-1,28,28,1)\n",
        "x_test_scaled = x_test_scaled.reshape(-1,28,28,1)"
      ]
    },
    {
      "cell_type": "code",
      "execution_count": 34,
      "metadata": {
        "id": "ELjWZwKT9dIG"
      },
      "outputs": [],
      "source": [
        "model=Sequential([layers.Input(shape=(28,28,1)),\n",
        "                  Conv2D(filters=32,kernel_size=(5,5),strides=(1,1),padding='valid',activation='relu'),\n",
        "                  MaxPool2D(pool_size=(2,2)),\n",
        "                  Conv2D(filters=64,kernel_size=(5,5),strides=(1,1),padding='same',activation='relu'),\n",
        "                  MaxPool2D(pool_size=(2,2)),\n",
        "                  layers.Flatten(),\n",
        "                  Dense(8,activation='relu'),\n",
        "                  Dense(10,activation='softmax')\n",
        "                  ])"
      ]
    },
    {
      "cell_type": "code",
      "execution_count": 35,
      "metadata": {
        "colab": {
          "base_uri": "https://localhost:8080/"
        },
        "id": "1tRmXw0u-ndf",
        "outputId": "83b0db39-1c89-406b-b683-7fd8d51d7b2e"
      },
      "outputs": [
        {
          "name": "stdout",
          "output_type": "stream",
          "text": [
            "Model: \"sequential_1\"\n",
            "_________________________________________________________________\n",
            " Layer (type)                Output Shape              Param #   \n",
            "=================================================================\n",
            " conv2d_2 (Conv2D)           (None, 24, 24, 32)        832       \n",
            "                                                                 \n",
            " max_pooling2d_2 (MaxPooling  (None, 12, 12, 32)       0         \n",
            " 2D)                                                             \n",
            "                                                                 \n",
            " conv2d_3 (Conv2D)           (None, 12, 12, 64)        51264     \n",
            "                                                                 \n",
            " max_pooling2d_3 (MaxPooling  (None, 6, 6, 64)         0         \n",
            " 2D)                                                             \n",
            "                                                                 \n",
            " flatten_1 (Flatten)         (None, 2304)              0         \n",
            "                                                                 \n",
            " dense_2 (Dense)             (None, 8)                 18440     \n",
            "                                                                 \n",
            " dense_3 (Dense)             (None, 10)                90        \n",
            "                                                                 \n",
            "=================================================================\n",
            "Total params: 70,626\n",
            "Trainable params: 70,626\n",
            "Non-trainable params: 0\n",
            "_________________________________________________________________\n"
          ]
        }
      ],
      "source": [
        "model.summary()"
      ]
    },
    {
      "cell_type": "code",
      "execution_count": 36,
      "metadata": {
        "id": "StQvTKfkG7l0"
      },
      "outputs": [],
      "source": [
        "model.compile(optimizer='Adam',\n",
        "                 loss='categorical_crossentropy',\n",
        "                 metrics=['accuracy'])"
      ]
    },
    {
      "cell_type": "code",
      "execution_count": 37,
      "metadata": {
        "colab": {
          "base_uri": "https://localhost:8080/"
        },
        "id": "hFKgtM76HM68",
        "outputId": "4d90ec75-cc74-4982-d967-27f09dd0880d"
      },
      "outputs": [
        {
          "name": "stdout",
          "output_type": "stream",
          "text": [
            "Epoch 1/15\n",
            "235/235 [==============================] - 35s 147ms/step - loss: 0.9913 - accuracy: 0.6263 - val_loss: 0.4321 - val_accuracy: 0.8523\n",
            "Epoch 2/15\n",
            "235/235 [==============================] - 33s 139ms/step - loss: 0.2856 - accuracy: 0.9065 - val_loss: 0.1545 - val_accuracy: 0.9562\n",
            "Epoch 3/15\n",
            "235/235 [==============================] - 33s 138ms/step - loss: 0.1515 - accuracy: 0.9585 - val_loss: 0.1224 - val_accuracy: 0.9669\n",
            "Epoch 4/15\n",
            "235/235 [==============================] - 33s 139ms/step - loss: 0.1160 - accuracy: 0.9677 - val_loss: 0.1037 - val_accuracy: 0.9725\n",
            "Epoch 5/15\n",
            "235/235 [==============================] - 33s 140ms/step - loss: 0.0960 - accuracy: 0.9735 - val_loss: 0.0856 - val_accuracy: 0.9749\n",
            "Epoch 6/15\n",
            "235/235 [==============================] - 34s 145ms/step - loss: 0.0830 - accuracy: 0.9763 - val_loss: 0.0839 - val_accuracy: 0.9759\n",
            "Epoch 7/15\n",
            "235/235 [==============================] - 34s 146ms/step - loss: 0.0735 - accuracy: 0.9787 - val_loss: 0.0775 - val_accuracy: 0.9785\n",
            "Epoch 8/15\n",
            "235/235 [==============================] - 33s 141ms/step - loss: 0.0660 - accuracy: 0.9811 - val_loss: 0.0970 - val_accuracy: 0.9724\n",
            "Epoch 9/15\n",
            "235/235 [==============================] - 33s 139ms/step - loss: 0.0621 - accuracy: 0.9823 - val_loss: 0.0615 - val_accuracy: 0.9825\n",
            "Epoch 10/15\n",
            "235/235 [==============================] - 34s 144ms/step - loss: 0.0529 - accuracy: 0.9848 - val_loss: 0.0725 - val_accuracy: 0.9797\n",
            "Epoch 11/15\n",
            "235/235 [==============================] - 34s 146ms/step - loss: 0.0480 - accuracy: 0.9860 - val_loss: 0.0574 - val_accuracy: 0.9836\n",
            "Epoch 12/15\n",
            "235/235 [==============================] - 33s 139ms/step - loss: 0.0431 - accuracy: 0.9879 - val_loss: 0.0631 - val_accuracy: 0.9822\n",
            "Epoch 13/15\n",
            "235/235 [==============================] - 33s 139ms/step - loss: 0.0395 - accuracy: 0.9881 - val_loss: 0.0551 - val_accuracy: 0.9849\n",
            "Epoch 14/15\n",
            "235/235 [==============================] - 33s 141ms/step - loss: 0.0354 - accuracy: 0.9900 - val_loss: 0.0502 - val_accuracy: 0.9858\n",
            "Epoch 15/15\n",
            "235/235 [==============================] - 34s 143ms/step - loss: 0.0338 - accuracy: 0.9897 - val_loss: 0.0530 - val_accuracy: 0.9849\n"
          ]
        },
        {
          "data": {
            "text/plain": [
              "<keras.callbacks.History at 0x18d7b1cfe20>"
            ]
          },
          "execution_count": 37,
          "metadata": {},
          "output_type": "execute_result"
        }
      ],
      "source": [
        "\n",
        "model.fit(x_train_scaled ,y_train_onehot, epochs=15,\n",
        "          batch_size=256, \n",
        "          validation_data=(x_test_scaled,y_test_onehot))"
      ]
    },
    {
      "cell_type": "code",
      "execution_count": 38,
      "metadata": {
        "id": "Whw7n-zSHl5E"
      },
      "outputs": [],
      "source": [
        "metrics = pd.DataFrame(model.history.history)"
      ]
    },
    {
      "cell_type": "code",
      "execution_count": 39,
      "metadata": {
        "colab": {
          "base_uri": "https://localhost:8080/",
          "height": 282
        },
        "id": "huuGFq_2KNEt",
        "outputId": "08d9ba0d-76e9-4663-c8be-b20ce55351dd"
      },
      "outputs": [
        {
          "data": {
            "text/plain": [
              "<AxesSubplot:>"
            ]
          },
          "execution_count": 39,
          "metadata": {},
          "output_type": "execute_result"
        },
        {
          "data": {
            "image/png": "[encoded data removed]",
            "text/plain": [
              "<Figure size 640x480 with 1 Axes>"
            ]
          },
          "metadata": {},
          "output_type": "display_data"
        }
      ],
      "source": [
        "metrics[['accuracy','val_accuracy']].plot()"
      ]
    },
    {
      "cell_type": "code",
      "execution_count": 40,
      "metadata": {
        "colab": {
          "base_uri": "https://localhost:8080/",
          "height": 282
        },
        "id": "7_xNQs8oLkI8",
        "outputId": "06cf69e9-36ce-4dc6-a0a1-8ed3c20920a1"
      },
      "outputs": [
        {
          "data": {
            "text/plain": [
              "<AxesSubplot:>"
            ]
          },
          "execution_count": 40,
          "metadata": {},
          "output_type": "execute_result"
        },
        {
          "data": {
            "image/png": "[encoded data removed]",
            "text/plain": [
              "<Figure size 640x480 with 1 Axes>"
            ]
          },
          "metadata": {},
          "output_type": "display_data"
        }
      ],
      "source": [
        "metrics[['loss','val_loss']].plot()\n"
      ]
    },
    {
      "cell_type": "code",
      "execution_count": 41,
      "metadata": {
        "id": "AbWgeTPILl5k"
      },
      "outputs": [
        {
          "name": "stdout",
          "output_type": "stream",
          "text": [
            "313/313 [==============================] - 1s 4ms/step\n"
          ]
        }
      ],
      "source": [
        "x_test_predictions = np.argmax(model.predict(x_test_scaled), axis=1)\n"
      ]
    },
    {
      "cell_type": "code",
      "execution_count": 42,
      "metadata": {
        "colab": {
          "base_uri": "https://localhost:8080/"
        },
        "id": "E3ybsrvzLysk",
        "outputId": "664085b8-8664-4bed-9ac1-d05ac1160978"
      },
      "outputs": [
        {
          "name": "stdout",
          "output_type": "stream",
          "text": [
            "[[ 966    0    5    0    1    0    3    1    4    0]\n",
            " [   0 1126    0    6    1    1    0    0    0    1]\n",
            " [   5    0 1016    7    0    0    0    3    1    0]\n",
            " [   0    0    1 1005    0    3    0    0    1    0]\n",
            " [   2    0    0    0  970    0    0    2    0    8]\n",
            " [   0    1    0    9    0  879    3    0    0    0]\n",
            " [   2    2    1    0    0    2  943    0    8    0]\n",
            " [   0    7   10    5    0    0    0 1003    0    3]\n",
            " [   3    0    3    4    0    8    1    0  951    4]\n",
            " [   1    0    0    5    4    2    0    5    2  990]]\n"
          ]
        }
      ],
      "source": [
        "print(confusion_matrix(y_test,x_test_predictions))"
      ]
    },
    {
      "cell_type": "code",
      "execution_count": 43,
      "metadata": {
        "colab": {
          "base_uri": "https://localhost:8080/"
        },
        "id": "6nCSS4JWMKJE",
        "outputId": "d65282b6-68f8-4915-9b02-cf96b5aa3e51"
      },
      "outputs": [
        {
          "name": "stdout",
          "output_type": "stream",
          "text": [
            "              precision    recall  f1-score   support\n",
            "\n",
            "           0       0.99      0.99      0.99       980\n",
            "           1       0.99      0.99      0.99      1135\n",
            "           2       0.98      0.98      0.98      1032\n",
            "           3       0.97      1.00      0.98      1010\n",
            "           4       0.99      0.99      0.99       982\n",
            "           5       0.98      0.99      0.98       892\n",
            "           6       0.99      0.98      0.99       958\n",
            "           7       0.99      0.98      0.98      1028\n",
            "           8       0.98      0.98      0.98       974\n",
            "           9       0.98      0.98      0.98      1009\n",
            "\n",
            "    accuracy                           0.98     10000\n",
            "   macro avg       0.98      0.98      0.98     10000\n",
            "weighted avg       0.98      0.98      0.98     10000\n",
            "\n"
          ]
        }
      ],
      "source": [
        "print(classification_report(y_test,x_test_predictions))\n"
      ]
    },
    {
      "cell_type": "code",
      "execution_count": 44,
      "metadata": {
        "id": "7y_IeuFjMWxj"
      },
      "outputs": [],
      "source": [
        "img = image.load_img('img.png')"
      ]
    },
    {
      "cell_type": "code",
      "execution_count": 45,
      "metadata": {
        "id": "_bo49vEBNNcC"
      },
      "outputs": [],
      "source": [
        "img_tensor = tf.convert_to_tensor(np.asarray(img))\n",
        "img_28 = tf.image.resize(img_tensor,(28,28))\n",
        "img_28_gray = tf.image.rgb_to_grayscale(img_28)\n",
        "img_28_gray_scaled = img_28_gray.numpy()/255.0"
      ]
    },
    {
      "cell_type": "code",
      "execution_count": 46,
      "metadata": {
        "colab": {
          "base_uri": "https://localhost:8080/",
          "height": 282
        },
        "id": "f4wiu6giNisU",
        "outputId": "53808a9b-04ec-40b7-b12a-52efed4ae194"
      },
      "outputs": [
        {
          "data": {
            "text/plain": [
              "<matplotlib.image.AxesImage at 0x18d47d23910>"
            ]
          },
          "execution_count": 46,
          "metadata": {},
          "output_type": "execute_result"
        },
        {
          "data": {
            "image/png": "[encoded data removed]",
            "text/plain": [
              "<Figure size 640x480 with 1 Axes>"
            ]
          },
          "metadata": {},
          "output_type": "display_data"
        }
      ],
      "source": [
        "plt.imshow(img_28_gray_scaled.reshape(28,28),cmap='gray')"
      ]
    },
    {
      "cell_type": "code",
      "execution_count": 47,
      "metadata": {
        "colab": {
          "base_uri": "https://localhost:8080/"
        },
        "id": "QgrYtzaqNduM",
        "outputId": "690149d2-97a4-4772-9736-451c78e2f9fa"
      },
      "outputs": [
        {
          "name": "stdout",
          "output_type": "stream",
          "text": [
            "1/1 [==============================] - 0s 18ms/step\n"
          ]
        },
        {
          "data": {
            "text/plain": [
              "array([4], dtype=int64)"
            ]
          },
          "execution_count": 47,
          "metadata": {},
          "output_type": "execute_result"
        }
      ],
      "source": [
        "np.argmax(model.predict(img_28_gray_scaled.reshape(1,28,28,1)),axis=1)"
      ]
    },
    {
      "cell_type": "code",
      "execution_count": null,
      "metadata": {},
      "outputs": [],
      "source": []
    }
  ],
  "metadata": {
    "accelerator": "GPU",
    "colab": {
      "collapsed_sections": [],
      "provenance": []
    },
    "gpuClass": "standard",
    "kernelspec": {
      "display_name": "Python 3.10.7 64-bit (microsoft store)",
      "language": "python",
      "name": "python3"
    },
    "language_info": {
      "codemirror_mode": {
        "name": "ipython",
        "version": 3
      },
      "file_extension": ".py",
      "mimetype": "text/x-python",
      "name": "python",
      "nbconvert_exporter": "python",
      "pygments_lexer": "ipython3",
      "version": "3.10.7"
    },
    "vscode": {
      "interpreter": {
        "hash": "4bff705619cf08da0cee86ea519efec4ddd5337cf594feb5a48a7054c9873b13"
      }
    }
  },
  "nbformat": 4,
  "nbformat_minor": 0
}
